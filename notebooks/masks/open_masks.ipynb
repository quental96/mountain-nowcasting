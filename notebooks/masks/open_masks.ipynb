{
 "cells": [
  {
   "cell_type": "markdown",
   "metadata": {},
   "source": [
    "# Masks : land-sea and relief\n",
    "\n",
    "The aim of this notebook is to indicate how to read the data from masks. For each geographical zone (North-West (NW) of France and South-East (SE) of France), two different masks are stored in a GRIB file:\n",
    "\n",
    "* the **land-sea mask**, stored in the ```lsm``` field. The values are binary : 0 for sea and 1 for land.\n",
    "\n",
    "* the **relief mask**, stored in the ```p3008``` field. The values are in meters.\n",
    "\n",
    "\n",
    "The spatial resolution is 0.025°. \n",
    "These data are constant fields which come from the fine-mesh french weather model called 'AROME'.\n",
    "\n",
    "Note : When you open a GRIB file with the library xarray, a new associated file of type .idx is created. \n",
    "\n",
    "For more information, cf [documentation](https://meteofrance.github.io/meteonet/english/data/land-relief-masks/). "
   ]
  },
  {
   "cell_type": "code",
   "execution_count": null,
   "metadata": {},
   "outputs": [],
   "source": [
    "import meteonet_toolbox.user_configuration \n",
    "import xarray as xr\n",
    "import numpy as np\n",
    "%matplotlib notebook\n",
    "import matplotlib.pyplot as plt"
   ]
  },
  {
   "cell_type": "markdown",
   "metadata": {},
   "source": [
    "Select the area you want to study :"
   ]
  },
  {
   "cell_type": "code",
   "execution_count": null,
   "metadata": {},
   "outputs": [],
   "source": [
    "zone = \"SE\"\n",
    "fname = \"../../data_samples/masks/%s_masks.grib\" % (zone)"
   ]
  },
  {
   "cell_type": "markdown",
   "metadata": {},
   "source": [
    "Open the GRIB file :"
   ]
  },
  {
   "cell_type": "code",
   "execution_count": null,
   "metadata": {},
   "outputs": [],
   "source": [
    "data = xr.open_dataset(fname, engine='cfgrib')"
   ]
  },
  {
   "cell_type": "markdown",
   "metadata": {},
   "source": [
    "## Simple plots"
   ]
  },
  {
   "cell_type": "code",
   "execution_count": null,
   "metadata": {},
   "outputs": [],
   "source": [
    "fig, axs = plt.subplots(1,2, figsize=(9,4))\n",
    "\n",
    "# Plot the land-sea mask\n",
    "data[\"lsm\"].plot(ax=axs[0])\n",
    "\n",
    "# Plot the relief mask\n",
    "vmax = data[\"p3008\"].values.max()\n",
    "data[\"p3008\"].plot(ax=axs[1], cmap='terrain', vmin=-1500, vmax=vmax)\n",
    "\n",
    "plt.show()"
   ]
  },
  {
   "cell_type": "markdown",
   "metadata": {},
   "source": [
    "## Exploring the xarray grid format\n",
    "Overview of the data and metadata : "
   ]
  },
  {
   "cell_type": "code",
   "execution_count": null,
   "metadata": {},
   "outputs": [],
   "source": [
    "data"
   ]
  },
  {
   "cell_type": "markdown",
   "metadata": {},
   "source": [
    "Print information about the coordinates (latitude and longitude):"
   ]
  },
  {
   "cell_type": "code",
   "execution_count": null,
   "metadata": {},
   "outputs": [],
   "source": [
    "coord = 'longitude'\n",
    "data[coord]"
   ]
  },
  {
   "cell_type": "code",
   "execution_count": null,
   "metadata": {},
   "outputs": [],
   "source": [
    "data[coord].units"
   ]
  },
  {
   "cell_type": "code",
   "execution_count": null,
   "metadata": {},
   "outputs": [],
   "source": [
    "data[coord].values"
   ]
  },
  {
   "cell_type": "markdown",
   "metadata": {},
   "source": [
    "Example for the land-sea mask:"
   ]
  },
  {
   "cell_type": "code",
   "execution_count": null,
   "metadata": {},
   "outputs": [],
   "source": [
    "data['lsm']"
   ]
  },
  {
   "cell_type": "markdown",
   "metadata": {},
   "source": [
    "## Plotting the masks with Cartopy"
   ]
  },
  {
   "cell_type": "code",
   "execution_count": null,
   "metadata": {},
   "outputs": [],
   "source": [
    "from meteonet_toolbox.constant import DOMAINS\n",
    "import cartopy.crs as ccrs\n",
    "import cartopy.feature as cfeature"
   ]
  },
  {
   "cell_type": "code",
   "execution_count": null,
   "metadata": {},
   "outputs": [],
   "source": [
    "# Coordinates of studied area boundaries\n",
    "lllat = DOMAINS[zone]['lry']  #lower left latitude\n",
    "urlat = DOMAINS[zone]['uly']  #upper right latitude\n",
    "lllon = DOMAINS[zone]['ulx']  #lower left longitude\n",
    "urlon = DOMAINS[zone]['lrx']  #upper right longitude\n",
    "extent = [lllon, urlon, lllat, urlat]"
   ]
  },
  {
   "cell_type": "code",
   "execution_count": null,
   "metadata": {},
   "outputs": [],
   "source": [
    "fig = plt.figure()\n",
    "\n",
    "# Select projection\n",
    "ax = plt.axes(projection=ccrs.PlateCarree())\n",
    "\n",
    "# Plot the data\n",
    "data[\"lsm\"].plot()\n",
    "\n",
    "# Add coastlines and borders\n",
    "ax.coastlines(resolution='50m', linewidth=1)\n",
    "ax.add_feature(cfeature.BORDERS.with_scale('50m'))\n",
    "\n",
    "# Show only the area we defined\n",
    "ax.set_extent(extent)\n",
    "\n",
    "plt.show()"
   ]
  },
  {
   "cell_type": "code",
   "execution_count": null,
   "metadata": {},
   "outputs": [],
   "source": [
    "fig = plt.figure()\n",
    "\n",
    "# Select projection\n",
    "ax = plt.axes(projection=ccrs.PlateCarree())\n",
    "\n",
    "# Plot the data\n",
    "vmax = data[\"p3008\"].values.max()\n",
    "data[\"p3008\"].plot(cmap='terrain', vmin=-1500, vmax=vmax)\n",
    "\n",
    "# Add coastlines and borders\n",
    "ax.coastlines(resolution='50m', linewidth=1)\n",
    "ax.add_feature(cfeature.BORDERS.with_scale('50m'))\n",
    "\n",
    "# Show only the area we defined\n",
    "ax.set_extent(extent)\n",
    "\n",
    "plt.show()"
   ]
  }
 ],
 "metadata": {
  "kernelspec": {
   "display_name": "Python 3",
   "language": "python",
   "name": "python3"
  },
  "language_info": {
   "codemirror_mode": {
    "name": "ipython",
    "version": 3
   },
   "file_extension": ".py",
   "mimetype": "text/x-python",
   "name": "python",
   "nbconvert_exporter": "python",
   "pygments_lexer": "ipython3",
   "version": "3.7.8"
  }
 },
 "nbformat": 4,
 "nbformat_minor": 2
}
