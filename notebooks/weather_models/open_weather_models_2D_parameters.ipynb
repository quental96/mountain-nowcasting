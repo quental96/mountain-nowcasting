{
 "cells": [
  {
   "cell_type": "markdown",
   "metadata": {},
   "source": [
    "# Weather models : 2D parameters\n",
    "\n",
    "The aim of this notebook is to indicate how to read the 2D data from weather models.\n",
    "There are 2 weather models:\n",
    "* a fine-mesh french weather model called 'AROME' (spatial resolution of 0.025°)\n",
    "* a large-mesh french weather model called 'ARPEGE' (spatial resolution of 0.1°)\n",
    "\n",
    "Per model, geographic zone ('NW' for North-West of France and 'SE' for South-East of France) and day, you have the model run of 00h with range forecasts from 00h to 24h. The time step is 1h.\n",
    "\n",
    "Finally, the 2D data are stored in 4 different GRIB files, according to the vertical level:\n",
    "\n",
    "* at 2m (*2m* in the file name) : temperature (in K), dew point temperature** (in K) and relative humidity (in %)\n",
    "* at 10m (*10m* in the file name): wind speed (in m.s<sup>-1</sup>), wind direction (in degrees), U and V wind components*** (in m.s<sup>-1</sup>)\n",
    "* at the sea level (*P_sea_level* in the file name) : mean sea level pressure (in Pa)\n",
    "* at the ground level (*PRECIP* in the file name)  : total precipitation (in kg m<sup>-2</sup> which is equivalent to mm) since the beginning of the model run \n",
    "\n",
    "\n",
    "** : temperature for which it is needed to refresh an air volume at constant pressure and humidity to become it saturated (i.e. condensation temperature)<br/>\n",
    "*** : horizontal wind speed components, U : from west to east and V : from south to north. \n",
    "\n",
    "For more information, cf [documentation](https://meteofrance.github.io/meteonet/english/data/weather-models/).\n",
    "\n",
    "**/!\\ : about the total precipitation parameter, the range forecast begins to 1h and not 0h as the other parameters. It is planned in a future version to modify that parameter in order to have the total precipitation between two time steps instead.**\n",
    "\n",
    "When you open a GRIB file with the library xarray, a new associated file of type .idx is created. \n",
    "\n",
    "/!\\ : Some files in the model files are incomplete/corrupted. It comes from the database of our corporation. There are archiving anomalies. We are working on a new version of MeteoNet and will take into account these anomalies. Meanwhile, you can detect these anomalies by checking the file sizes. For a given file category (zone, level, model type), the files must have exactly the same size. So if some files are smaller than the other one, then these files have anomalies. This has been reported in kaggle in this discussion https://www.kaggle.com/katerpillar/meteonet/discussion/157206 and in Github (https://github.com/meteofrance/meteonet/issues/14). "
   ]
  },
  {
   "cell_type": "code",
   "execution_count": null,
   "metadata": {},
   "outputs": [],
   "source": [
    "import meteonet_toolbox.user_configuration\n",
    "import xarray as xr\n",
    "import numpy as np\n",
    "%matplotlib notebook\n",
    "import matplotlib.pyplot as plt\n",
    "import datetime as dt"
   ]
  },
  {
   "cell_type": "markdown",
   "metadata": {},
   "source": [
    "## Parameters definition"
   ]
  },
  {
   "cell_type": "markdown",
   "metadata": {},
   "source": [
    "Select the area, model, date, level and parameter you want to study :"
   ]
  },
  {
   "cell_type": "code",
   "execution_count": null,
   "metadata": {},
   "outputs": [],
   "source": [
    "zone = \"NW\"     #geographic zone (NW or SE)\n",
    "model = 'arome' #weather model (arome or arpege)\n",
    "level = '2m'      #vertical level (2m, 10m, P_sea_level or PRECIP)\n",
    "date = dt.datetime(2018, 5, 1,0,0) # Day example \n",
    "#parameter name in the file (cf cells below to know the parameter names -> exploration of metadata)\n",
    "if level == '2m':\n",
    "    param = 't2m'\n",
    "elif level == '10m':\n",
    "    param = 'u10'\n",
    "elif level == 'PRECIP':\n",
    "    param = 'tp'\n",
    "else:\n",
    "    param = 'msl'"
   ]
  },
  {
   "cell_type": "markdown",
   "metadata": {},
   "source": [
    "## Loading data using parameters "
   ]
  },
  {
   "cell_type": "code",
   "execution_count": null,
   "metadata": {},
   "outputs": [],
   "source": [
    "fname = \"../../data_samples/weather_models/%s_%s_%s_%s.grib\" % (model,level,zone,date.strftime('%Y%m%d%H%M%S'))\n",
    "data = xr.open_dataset(fname, engine='cfgrib')  "
   ]
  },
  {
   "cell_type": "markdown",
   "metadata": {},
   "source": [
    "## Quick field visualisation\n",
    "The following comand shows the weather forecast at step 0 (analyse)  6/12/24 for temperature.\n",
    "As the run chosed in parameter is the midnight run, the temperature at step 12 (figure 3) is the midday temperature. \n",
    "You can see that this temperature is higher than midnight (fig 1 and 4) or at 6AM (figure 2)"
   ]
  },
  {
   "cell_type": "code",
   "execution_count": null,
   "metadata": {},
   "outputs": [],
   "source": [
    "data.isel(step=[0, 6, 12, 23])[param].plot(x='longitude',\n",
    "                                           y='latitude',\n",
    "                                           col='step',\n",
    "                                           col_wrap=2)"
   ]
  },
  {
   "cell_type": "markdown",
   "metadata": {},
   "source": [
    "## Exploration of metadata "
   ]
  },
  {
   "cell_type": "markdown",
   "metadata": {},
   "source": [
    "Overview of the data :"
   ]
  },
  {
   "cell_type": "code",
   "execution_count": null,
   "metadata": {},
   "outputs": [],
   "source": [
    "print(data)"
   ]
  },
  {
   "cell_type": "markdown",
   "metadata": {},
   "source": [
    "Get the information about coordinates (latitude and longitude):"
   ]
  },
  {
   "cell_type": "code",
   "execution_count": null,
   "metadata": {},
   "outputs": [],
   "source": [
    "coord = 'longitude'\n",
    "data[coord]"
   ]
  },
  {
   "cell_type": "code",
   "execution_count": null,
   "metadata": {},
   "outputs": [],
   "source": [
    "data[coord].units"
   ]
  },
  {
   "cell_type": "code",
   "execution_count": null,
   "metadata": {},
   "outputs": [],
   "source": [
    "data[coord].values"
   ]
  },
  {
   "cell_type": "markdown",
   "metadata": {},
   "source": [
    "Get the information about the run date and the different range forecasts:"
   ]
  },
  {
   "cell_type": "code",
   "execution_count": null,
   "metadata": {},
   "outputs": [],
   "source": [
    "run_date = data['time']\n",
    "#run_date.values     #get the values\n",
    "run_date"
   ]
  },
  {
   "cell_type": "code",
   "execution_count": null,
   "metadata": {},
   "outputs": [],
   "source": [
    "range_forecasts_dates = data['valid_time']\n",
    "range_forecasts_dates"
   ]
  },
  {
   "cell_type": "markdown",
   "metadata": {},
   "source": [
    "Get the information about the vertical level:"
   ]
  },
  {
   "cell_type": "code",
   "execution_count": null,
   "metadata": {},
   "outputs": [],
   "source": [
    "if (level =='2m' or level == '10m'):\n",
    "    level_name = 'heightAboveGround'\n",
    "elif (level =='P_sea_level'):\n",
    "    level_name = 'meanSea'\n",
    "else:\n",
    "    level_name = 'surface'\n",
    "info_level = data[level_name]\n",
    "info_level"
   ]
  },
  {
   "cell_type": "markdown",
   "metadata": {},
   "source": [
    "Get the information about one parameter: \n",
    "the parameter names in the GRIB file are indicated in the field *Data variables* (cf print(data) above)"
   ]
  },
  {
   "cell_type": "code",
   "execution_count": null,
   "metadata": {},
   "outputs": [],
   "source": [
    "d = data[param]     #param : parameter name defined at the beginning of the Notebook \n",
    "d_vals=d.values     #get the values\n",
    "###examples to get the information from attributes\n",
    "#d.units                      #unit\n",
    "#d.long_name                      #long name\n",
    "d"
   ]
  },
  {
   "cell_type": "markdown",
   "metadata": {},
   "source": [
    "The structure of the parameter (3 dimensions):\n",
    "* number of steps or range forecasts\n",
    "* number of points in latitude\n",
    "* number of points in longitude  "
   ]
  },
  {
   "cell_type": "code",
   "execution_count": null,
   "metadata": {},
   "outputs": [],
   "source": [
    "d_vals.shape"
   ]
  },
  {
   "cell_type": "markdown",
   "metadata": {},
   "source": [
    "## Plotting data with Cartopy"
   ]
  },
  {
   "cell_type": "markdown",
   "metadata": {},
   "source": [
    "Plot the parameter values for 1 given time step with Cartopy:"
   ]
  },
  {
   "cell_type": "code",
   "execution_count": null,
   "metadata": {},
   "outputs": [],
   "source": [
    "from meteonet_toolbox.constant import DOMAINS\n",
    "import cartopy.crs as ccrs\n",
    "import cartopy.feature as cfeature"
   ]
  },
  {
   "cell_type": "code",
   "execution_count": null,
   "metadata": {},
   "outputs": [],
   "source": [
    "#index for the studied time step\n",
    "step = 0                "
   ]
  },
  {
   "cell_type": "code",
   "execution_count": null,
   "metadata": {},
   "outputs": [],
   "source": [
    "#coordinates of study zone boundaries\n",
    "lllat=DOMAINS[zone]['lry']    #lower left latitude\n",
    "urlat=DOMAINS[zone]['uly']    #upper right latitude\n",
    "lllon=DOMAINS[zone]['ulx']    #lower left longitude\n",
    "urlon=DOMAINS[zone]['lrx']    #upper right longitude\n",
    "extent = [lllon, urlon, lllat, urlat]"
   ]
  },
  {
   "cell_type": "code",
   "execution_count": null,
   "metadata": {},
   "outputs": [],
   "source": [
    "fig=plt.figure(figsize=(9,10))\n",
    "\n",
    "# Select projection\n",
    "ax = plt.axes(projection=ccrs.PlateCarree())\n",
    "\n",
    "#plot the data and the background map (coastlines and borders)\n",
    "img = ax.imshow(d_vals[step,:,:], interpolation='none', origin='upper', extent=extent)\n",
    "ax.coastlines(resolution='50m', linewidth=1)\n",
    "ax.add_feature(cfeature.BORDERS.with_scale('50m'))\n",
    "\n",
    "\n",
    "plt.colorbar(img, orientation= 'horizontal').set_label(d.long_name+ ' (in '+d.units+ ')')\n",
    "plt.title(model +\" model - \"+str(d['valid_time'].values[step])+\" - \" +zone + \" zone\")\n",
    "plt.show()"
   ]
  },
  {
   "cell_type": "code",
   "execution_count": null,
   "metadata": {},
   "outputs": [],
   "source": []
  }
 ],
 "metadata": {
  "kernelspec": {
   "display_name": "Python 3",
   "language": "python",
   "name": "python3"
  },
  "language_info": {
   "codemirror_mode": {
    "name": "ipython",
    "version": 3
   },
   "file_extension": ".py",
   "mimetype": "text/x-python",
   "name": "python",
   "nbconvert_exporter": "python",
   "pygments_lexer": "ipython3",
   "version": "3.7.8"
  }
 },
 "nbformat": 4,
 "nbformat_minor": 2
}
