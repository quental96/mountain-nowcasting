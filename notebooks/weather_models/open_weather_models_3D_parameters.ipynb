{
 "cells": [
  {
   "cell_type": "markdown",
   "metadata": {},
   "source": [
    "# Weather models : 3D parameters\n",
    "\n",
    "The aim of this notebook is to indicate how to read the 3D data from the large-mesh french weather model called 'ARPEGE' (spatial resolution of 0.1°).\n",
    "\n",
    "Per geographic zone ('NW' for North-West of France and 'SE' for South-East of France) and day, you have the weather model run of 00h with range forecasts from 00h to 24h. The time step is different according to days : it is 1h from 0h to 12h and rises to 3h after 12h (from 12h to 24h of range forecasts).\n",
    "\n",
    "Finally, the 3D data are stored in 2 different GRIB files, according to the vertical levels:\n",
    "* height levels (*height* in the file name) : 20, 100, 500, 875, 1375, 2000 and 3000 m\n",
    "* isobar levels (*isobar* in the file name) : 1000, 950, 925, 850, 700, 600 and 500 hPa\n",
    "\n",
    "The parameters are as follows:\n",
    "* height levels (*height* in the file name) : pressure (in Pa)\n",
    "* isobar levels (*isobar* in the file name) : temperature (in K), pseudo-adiabatic potential temperature of the wet bulb** (in K), relative humidity (in %), wind speed (in m.s<sup>-1</sup>), wind direction (in °), U and V wind components** (in m.s<sup>-1</sup>), vertical velocity** (in Pa.s<sup>-1</sup>), geopotential** (in m<sup>2</sup>.s<sup>-2</sup>)\n",
    "\n",
    "For more information, cf [documentation](https://meteofrance.github.io/meteonet/english/data/weather-models/).\n",
    "\n",
    "When you open a GRIB file with the library xarray, a new associated file of type .idx is created. \n",
    "\n",
    "/!\\ : Some files in the model files are incomplete/corrupted. It comes from the database of our corporation. There are archiving anomalies. We are working on a new version of MeteoNet and will take into account these anomalies. Meanwhile, you can detect these anomalies by checking the file sizes. For a given file category (zone, level, model type), the files must have exactly the same size. So if some files are smaller than the other one, then these files have anomalies. This has been reported in kaggle in this discussion https://www.kaggle.com/katerpillar/meteonet/discussion/157206 and in Github (https://github.com/meteofrance/meteonet/issues/14). \n",
    "\n",
    "** : Physical sense of variables\n",
    "* *pseudo-adiabatic potential temperature of the wet bulb : temperature affected to an air particle brought back to its condensation level. It is about a near-conversative parameter. It allows to follow the state of an air particle in a satured atmosphere and then allows to follow the evolution of a perturbation, depression (or a satured air mass). For example, this parameter at 850hPa is very useful to know the depression structure and to follow its evolution.*\n",
    "* *horizontal wind speed components, U : from west to east and V : from south to north.* \n",
    "* *vertical velocity : vertical speed; the displacement is expressed in Pa (in meteorology, the vertical levels are often expressed in isobar levels, cf weather_models_explanations.md for more details); The higher the height is, the lower the pressure is. If the vertical velocity is positive, there is an upward current (ex : the earth surface is warmed by the sun). The opposite corresponds to a downdraft (ex : an cold air mass passes above a warmer ground).*\n",
    "* *geopotential : it is used to compute the pressure and takes account the local gravity variations of the Earth. The height of the geopotential is interesting in meteorology : it allows to get the constant pressure heights. A high geopotential (pressure levels have high heights) is often associated to an anticyclone and a low geopotential (pressure levels have low heights) corresponds to a depression.*"
   ]
  },
  {
   "cell_type": "code",
   "execution_count": null,
   "metadata": {},
   "outputs": [],
   "source": [
    "import meteonet_toolbox.user_configuration\n",
    "import xarray as xr\n",
    "import numpy as np\n",
    "%matplotlib notebook\n",
    "import matplotlib.pyplot as plt\n",
    "import datetime as dt"
   ]
  },
  {
   "cell_type": "markdown",
   "metadata": {},
   "source": [
    "## Parameters definition"
   ]
  },
  {
   "cell_type": "markdown",
   "metadata": {},
   "source": [
    "Select the area, model, date, level, parameter and time step you want to study :"
   ]
  },
  {
   "cell_type": "code",
   "execution_count": null,
   "metadata": {},
   "outputs": [],
   "source": [
    "zone = \"SE\"     #geographic zone (NW or SE)\n",
    "level = 'isobar'              #vertical level (height or isobar)\n",
    "date = dt.datetime(2018, 5, 1,0,0) # Day example \n",
    "#parameter name in the file (cf cells below to know the parameter names -> exploration of metadata)\n",
    "if level == 'isobar':\n",
    "    param = 'w'\n",
    "    level_name = 'isobaricInhPa'     #name of the vertical level    \n",
    "else:\n",
    "    param = 'pres'\n",
    "    level_name = 'heightAboveGround'\n",
    "time_step = 0                #index for the studied time step (cf plot example below)"
   ]
  },
  {
   "cell_type": "markdown",
   "metadata": {},
   "source": [
    "## Loading data using parameters"
   ]
  },
  {
   "cell_type": "code",
   "execution_count": null,
   "metadata": {},
   "outputs": [],
   "source": [
    "fname = \"../../data_samples/weather_models/arpege_3D_%s_%s_%s.grib\" % (level,zone,date.strftime('%Y%m%d%H%M%S'))\n",
    "data = xr.open_dataset(fname, engine='cfgrib')  #data loading"
   ]
  },
  {
   "cell_type": "markdown",
   "metadata": {},
   "source": [
    "## Quick field visualisation"
   ]
  },
  {
   "cell_type": "code",
   "execution_count": null,
   "metadata": {
    "scrolled": false
   },
   "outputs": [],
   "source": [
    "data.isel(step=time_step)[param].plot(x=\"longitude\",y=\"latitude\",col=level_name,col_wrap=3)"
   ]
  },
  {
   "cell_type": "markdown",
   "metadata": {},
   "source": [
    "# Exploration of metadata"
   ]
  },
  {
   "cell_type": "markdown",
   "metadata": {},
   "source": [
    "Overview of the data:"
   ]
  },
  {
   "cell_type": "code",
   "execution_count": null,
   "metadata": {},
   "outputs": [],
   "source": [
    "print(data)"
   ]
  },
  {
   "cell_type": "markdown",
   "metadata": {},
   "source": [
    "Get the information about coordinates (latitude and longitude):"
   ]
  },
  {
   "cell_type": "code",
   "execution_count": null,
   "metadata": {},
   "outputs": [],
   "source": [
    "coord = 'longitude'\n",
    "data[coord]"
   ]
  },
  {
   "cell_type": "code",
   "execution_count": null,
   "metadata": {},
   "outputs": [],
   "source": [
    "data[coord].units"
   ]
  },
  {
   "cell_type": "code",
   "execution_count": null,
   "metadata": {},
   "outputs": [],
   "source": [
    "data[coord].values"
   ]
  },
  {
   "cell_type": "markdown",
   "metadata": {},
   "source": [
    "Get the information about the run date and the different range forecasts:"
   ]
  },
  {
   "cell_type": "code",
   "execution_count": null,
   "metadata": {},
   "outputs": [],
   "source": [
    "run_date = data['time']\n",
    "#run_date.values     #get the values\n",
    "run_date"
   ]
  },
  {
   "cell_type": "code",
   "execution_count": null,
   "metadata": {},
   "outputs": [],
   "source": [
    "range_forecasts_dates = data['valid_time']\n",
    "range_forecasts_dates"
   ]
  },
  {
   "cell_type": "markdown",
   "metadata": {},
   "source": [
    "Get the information about the vertical level:"
   ]
  },
  {
   "cell_type": "code",
   "execution_count": null,
   "metadata": {},
   "outputs": [],
   "source": [
    "info_level = data[level_name]\n",
    "level_vals=info_level.values     #get the values\n",
    "info_level"
   ]
  },
  {
   "cell_type": "markdown",
   "metadata": {},
   "source": [
    "Get the information about one parameter: \n",
    "the parameter names in the GRIB file are indicated in the field *Data variables* (cf print(data) above)"
   ]
  },
  {
   "cell_type": "code",
   "execution_count": null,
   "metadata": {},
   "outputs": [],
   "source": [
    "d = data[param]     #param : parameter name defined at the beginning of the Notebook \n",
    "d_vals=d.values     #get the values\n",
    "###examples to get the information from attributes\n",
    "#d.units                      #unit\n",
    "#d.long_name                      #long name\n",
    "d"
   ]
  },
  {
   "cell_type": "markdown",
   "metadata": {},
   "source": [
    "The structure of the parameter (4 dimensions):\n",
    "* number of steps or range forecasts\n",
    "* number of vertical levels\n",
    "* number of points in latitude\n",
    "* number of points in longitude"
   ]
  },
  {
   "cell_type": "code",
   "execution_count": null,
   "metadata": {},
   "outputs": [],
   "source": [
    "d_vals.shape"
   ]
  },
  {
   "cell_type": "markdown",
   "metadata": {},
   "source": [
    "## Plotting data with Cartopy"
   ]
  },
  {
   "cell_type": "markdown",
   "metadata": {},
   "source": [
    "Plot the parameter values for 1 given time and level step with Cartopy:"
   ]
  },
  {
   "cell_type": "code",
   "execution_count": null,
   "metadata": {},
   "outputs": [],
   "source": [
    "from meteonet_toolbox.constant import DOMAINS\n",
    "import cartopy.crs as ccrs\n",
    "import cartopy.feature as cfeature"
   ]
  },
  {
   "cell_type": "code",
   "execution_count": null,
   "metadata": {},
   "outputs": [],
   "source": [
    "#index for the studied level step (cf plot example below)\n",
    "level_step = 2               "
   ]
  },
  {
   "cell_type": "code",
   "execution_count": null,
   "metadata": {},
   "outputs": [],
   "source": [
    "#coordinates of study zone boundaries\n",
    "lllat = DOMAINS[zone]['lry']  #lower left latitude\n",
    "urlat = DOMAINS[zone]['uly']  #upper right latitude\n",
    "lllon = DOMAINS[zone]['ulx']  #lower left longitude\n",
    "urlon = DOMAINS[zone]['lrx']  #upper right longitude\n",
    "extent = [lllon, urlon, lllat, urlat]"
   ]
  },
  {
   "cell_type": "code",
   "execution_count": null,
   "metadata": {},
   "outputs": [],
   "source": [
    "fig=plt.figure(figsize=(9,10))\n",
    "\n",
    "# Select projection\n",
    "ax = plt.axes(projection=ccrs.PlateCarree())\n",
    "\n",
    "#plot the data and the background map (coastlines and borders)\n",
    "img = ax.imshow(d_vals[time_step,level_step,:,:], interpolation='none', origin='upper', extent=extent)\n",
    "ax.coastlines(resolution='50m', linewidth=1)\n",
    "ax.add_feature(cfeature.BORDERS.with_scale('50m'))\n",
    "\n",
    "plt.colorbar(img, orientation= 'horizontal').set_label(d.long_name+ ' (in '+d.units+ ')')\n",
    "plt.title(\"ARPEGE model - \"+ str(level_vals[level_step])+ \" \"+ info_level.units + \" - \"  +str(d['valid_time'].values[time_step])+\" - \" +zone + \" zone\")\n",
    "plt.show()"
   ]
  },
  {
   "cell_type": "code",
   "execution_count": null,
   "metadata": {},
   "outputs": [],
   "source": []
  }
 ],
 "metadata": {
  "kernelspec": {
   "display_name": "Python 3",
   "language": "python",
   "name": "python3"
  },
  "language_info": {
   "codemirror_mode": {
    "name": "ipython",
    "version": 3
   },
   "file_extension": ".py",
   "mimetype": "text/x-python",
   "name": "python",
   "nbconvert_exporter": "python",
   "pygments_lexer": "ipython3",
   "version": "3.7.8"
  }
 },
 "nbformat": 4,
 "nbformat_minor": 2
}
