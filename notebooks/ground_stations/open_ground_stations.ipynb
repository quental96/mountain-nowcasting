{
 "cells": [
  {
   "cell_type": "markdown",
   "metadata": {},
   "source": [
    "\n",
    "# Ground station observations\n",
    "\n",
    "This notebook will help you explore the ground station observations. Hundreds of observation stations are built throughout the French territory and fitted with several weather sensors (temperature, pressure, wind...). \n",
    "Each parameter is measured every 6 minutes and each file contains 1 month of data for each geographical area ('NW' for North-West of France and 'SE' for South-East of France). \n",
    "\n",
    "For more information, cf [documentation](https://meteofrance.github.io/meteonet/english/data/ground-observations/). \n",
    "\n",
    "## Data overview\n",
    "\n",
    "### Metadata parameters\n",
    "\n",
    "* **number_sta** : ground station number\n",
    "\n",
    "* **lat** : latitude into decimal degrees\n",
    "\n",
    "* **lon** : longitude into decimal degrees\n",
    "\n",
    "* **height_sta** : station height into meters\n",
    "\n",
    "The date parameter is a datetime object with the format 'YYYY-MM-DD HH:mm:ss'.\n",
    "\n",
    "### Meteorological parameters\n",
    "\n",
    "* **dd** : wind direction in degrees\n",
    "\n",
    "* **ff** : wind speed in m.s<sup>-1</sup>\n",
    "\n",
    "* **precip** : precipitation during the reporting period in kg.m<sup>2</sup>\n",
    "\n",
    "* **hu** : humidity in %\n",
    "\n",
    "* **td** : dew point temperature** in Kelvin\n",
    "\n",
    "* **t** : temperature in Kelvin\n",
    "\n",
    "* **psl** : pressure reduced to sea level in Pa\n",
    "\n",
    "\n",
    "** : temperature for which it is needed to refresh an air volume at constant pressure and humidity to become it saturated (i.e. condensation temperature)"
   ]
  },
  {
   "cell_type": "code",
   "execution_count": null,
   "metadata": {},
   "outputs": [],
   "source": [
    "import pandas as pd\n",
    "import numpy as np\n",
    "%matplotlib notebook\n",
    "import matplotlib.pyplot as plt"
   ]
  },
  {
   "cell_type": "markdown",
   "metadata": {},
   "source": [
    "Select the zone, date and parameter you want to study :"
   ]
  },
  {
   "cell_type": "code",
   "execution_count": null,
   "metadata": {},
   "outputs": [],
   "source": [
    "zone, day, param = 'SE', '20160101', 'hu'\n",
    "fname = \"../../data_samples/ground_stations/\"+zone+'_'+day+\".csv\"\n",
    "df = pd.read_csv(fname,parse_dates=[4],infer_datetime_format=True)"
   ]
  },
  {
   "cell_type": "markdown",
   "metadata": {},
   "source": [
    "Let's have a look at the dataframe !"
   ]
  },
  {
   "cell_type": "code",
   "execution_count": null,
   "metadata": {},
   "outputs": [],
   "source": [
    "display(df.head())\n",
    "display(df.tail())"
   ]
  },
  {
   "cell_type": "markdown",
   "metadata": {},
   "source": [
    "## Plot a parameter for a given date \n",
    "\n",
    "Let's start by selecting a date and time and displaying a subpart of the dataframe."
   ]
  },
  {
   "cell_type": "code",
   "execution_count": null,
   "metadata": {},
   "outputs": [],
   "source": [
    "date = '2016-01-01T06:00:00'\n",
    "d_sub = df[df['date'] == date]\n",
    "\n",
    "display(d_sub.head())\n",
    "display(d_sub.tail())"
   ]
  },
  {
   "cell_type": "markdown",
   "metadata": {},
   "source": [
    "Now, let's plot the data !"
   ]
  },
  {
   "cell_type": "markdown",
   "metadata": {},
   "source": [
    "### Simple scatter plot"
   ]
  },
  {
   "cell_type": "code",
   "execution_count": null,
   "metadata": {},
   "outputs": [],
   "source": [
    "plt.scatter(d_sub['lon'], d_sub['lat'], c=d_sub[param], cmap='jet')\n",
    "plt.show()"
   ]
  },
  {
   "cell_type": "markdown",
   "metadata": {},
   "source": [
    "### Plot with Cartopy"
   ]
  },
  {
   "cell_type": "code",
   "execution_count": null,
   "metadata": {},
   "outputs": [],
   "source": [
    "from meteonet_toolbox.constant import DOMAINS\n",
    "import cartopy.crs as ccrs\n",
    "import cartopy.feature as cfeature"
   ]
  },
  {
   "cell_type": "code",
   "execution_count": null,
   "metadata": {},
   "outputs": [],
   "source": [
    "# Coordinates of studied area boundaries\n",
    "lllat = DOMAINS[zone]['lry']  #lower left latitude\n",
    "urlat = DOMAINS[zone]['uly']  #upper right latitude\n",
    "lllon = DOMAINS[zone]['ulx']  #lower left longitude\n",
    "urlon = DOMAINS[zone]['lrx']  #upper right longitude\n",
    "extent = [lllon, urlon, lllat, urlat]\n",
    "\n",
    "fig = plt.figure(figsize=(9,5))\n",
    "\n",
    "# Select projection\n",
    "ax = plt.axes(projection=ccrs.PlateCarree())\n",
    "\n",
    "# Plot the data\n",
    "plt.scatter(d_sub['lon'], d_sub['lat'], c=d_sub[param], cmap='jet')  # Plot\n",
    "\n",
    "# Add coastlines and borders\n",
    "ax.coastlines(resolution='50m', linewidth=1)\n",
    "ax.add_feature(cfeature.BORDERS.with_scale('50m'))\n",
    "\n",
    "# Show only the area we defined\n",
    "ax.set_extent(extent)\n",
    "\n",
    "plt.show()"
   ]
  },
  {
   "cell_type": "code",
   "execution_count": null,
   "metadata": {},
   "outputs": [],
   "source": []
  }
 ],
 "metadata": {
  "kernelspec": {
   "display_name": "Python 3",
   "language": "python",
   "name": "python3"
  },
  "language_info": {
   "codemirror_mode": {
    "name": "ipython",
    "version": 3
   },
   "file_extension": ".py",
   "mimetype": "text/x-python",
   "name": "python",
   "nbconvert_exporter": "python",
   "pygments_lexer": "ipython3",
   "version": "3.7.8"
  }
 },
 "nbformat": 4,
 "nbformat_minor": 2
}
