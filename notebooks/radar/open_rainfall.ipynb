{
 "cells": [
  {
   "cell_type": "markdown",
   "metadata": {},
   "source": [
    "# Radar observations : rainfall composite product, rainfall\n",
    "\n",
    "The aim of this notebook is to help you read the rainfall data.\n",
    "\n",
    "For each radar data type, you will find one archive per year and per zone, each one sliced in periods of 10 or 11 days (each month is separated in 3 files). \n",
    "\n",
    "Each `.npz` file contains 3 arrays :\n",
    "\n",
    "* `data` : an array containing maps of radar data values.\n",
    "\n",
    "* `dates` : an array containing a datetime object and indicating the date of each `data` map.\n",
    "\n",
    "* `miss_dates` : an array containing a datetime object for each missing radar map over the period.\n",
    "\n",
    "Here, the `data` array contains a rainfall map for each time step. For each pixel, the value represents the cumulated rainfall in hundreth of millimeters (10<sup>-2</sup> mm). If the value is missing then the value is -1.\n",
    "\n",
    "The time step between two radar scans is 5 min. The radar starts scanning at 00h every day and ends at 23h55. So each file of 11 days should contain a maximum of 3168 rainfall maps (minus the missing dates).\n",
    "\n",
    "The radar's spatial resolution is 0.01° and the projection system used is EPSG:4326.\n",
    "\n",
    "You will also find a `radar_coords_ZONE.npz` file containing 2 arrays `lats` and `lons`, indicating the coordinates (latitude and longitude) of the center of each radar pixel.\n",
    "\n",
    "For more information, cf [documentation](https://meteofrance.github.io/meteonet/english/data/rain-radar/)."
   ]
  },
  {
   "cell_type": "markdown",
   "metadata": {},
   "source": [
    "# Quickstart"
   ]
  },
  {
   "cell_type": "code",
   "execution_count": null,
   "metadata": {},
   "outputs": [],
   "source": [
    "import numpy as np\n",
    "%matplotlib notebook\n",
    "import matplotlib.pyplot as plt\n",
    "from matplotlib import colors"
   ]
  },
  {
   "cell_type": "markdown",
   "metadata": {},
   "source": [
    "First, let's select the zone and date we want to study : "
   ]
  },
  {
   "cell_type": "code",
   "execution_count": null,
   "metadata": {},
   "outputs": [],
   "source": [
    "zone = \"NW\"\n",
    "year = 2016\n",
    "month = 8\n",
    "part_month = 3 # Choice between 1,2,3, as we said earlier each month is divided in 3 parts"
   ]
  },
  {
   "cell_type": "markdown",
   "metadata": {},
   "source": [
    "Now, we load the data and the coordinates :"
   ]
  },
  {
   "cell_type": "code",
   "execution_count": null,
   "metadata": {},
   "outputs": [],
   "source": [
    "directory = \"../../data_samples/radar/\"\n",
    "fname = directory + f'rainfall_{zone}_{str(year)}_{str(month).zfill(2)}.{str(part_month)}.npz'\n",
    "fname_coords = directory + f'radar_coords_{zone}.npz'\n",
    "\n",
    "d = np.load(fname, allow_pickle=True)\n",
    "data = d['data']\n",
    "dates = d['dates']\n",
    "miss_dates = d['miss_dates']\n",
    "\n",
    "coords = np.load(fname_coords, allow_pickle=True)\n",
    "#it is about coordinates of the center of pixels \n",
    "lat = coords['lats']\n",
    "lon = coords['lons']"
   ]
  },
  {
   "cell_type": "markdown",
   "metadata": {},
   "source": [
    "Let's plot some examples :"
   ]
  },
  {
   "cell_type": "code",
   "execution_count": null,
   "metadata": {},
   "outputs": [],
   "source": [
    "title = \"4 examples of rainfall plots\"\n",
    "fig, ax = plt.subplots(2, 2,figsize=(9,9))\n",
    "fig.suptitle(title, fontsize=16)\n",
    "\n",
    "# Choose the colormap\n",
    "cmap = colors.ListedColormap(['silver','white', 'darkslateblue', 'mediumblue','dodgerblue', \n",
    "                              'skyblue','olive','mediumseagreen','cyan','lime','yellow',\n",
    "                              'khaki','burlywood','orange','brown','pink','red','plum'])\n",
    "bounds = [-1,0,2,4,6,8,10,15,20,25,30,35,40,45,50,55,60,65,75]\n",
    "norm = colors.BoundaryNorm(bounds, cmap.N)\n",
    "\n",
    "pl=ax[0,0].pcolormesh(lon, lat, data[0,:,:],cmap=cmap, norm=norm)\n",
    "ax[0,0].set_ylabel('latitude (degrees_north)')\n",
    "ax[0,0].set_title(str(dates[0]) + \" - \"+  zone + \" zone\")\n",
    "\n",
    "pl=ax[0,1].pcolormesh(lon, lat, data[1,:,:],cmap=cmap, norm=norm)\n",
    "ax[0,1].set_title(str(dates[1]) + \" - \"+  zone + \" zone\")\n",
    "\n",
    "pl=ax[1,0].pcolormesh(lon, lat, data[2,:,:],cmap=cmap, norm=norm)\n",
    "ax[1,0].set_xlabel('longitude (degrees_east)')\n",
    "ax[1,0].set_ylabel('latitude (degrees_north)')\n",
    "ax[1,0].set_title(str(dates[2]) + \" - \"+  zone + \" zone\")\n",
    "\n",
    "pl=ax[1,1].pcolormesh(lon, lat, data[3,:,:],cmap=cmap, norm=norm)\n",
    "ax[1,1].set_xlabel('longitude (degrees_east)')\n",
    "ax[1,1].set_title(str(dates[3]) + \" - \"+  zone + \" zone\")\n",
    "\n",
    "# Plot the color bar\n",
    "cbar = fig.colorbar(pl,ax=ax.ravel().tolist(),cmap=cmap, norm=norm, boundaries=bounds, ticks=bounds, \n",
    "                orientation= 'vertical').set_label('Rainfall (in 1/100 mm) / -1 : missing values')\n",
    "plt.show()"
   ]
  },
  {
   "cell_type": "markdown",
   "metadata": {},
   "source": [
    "## Exploring the data"
   ]
  },
  {
   "cell_type": "markdown",
   "metadata": {},
   "source": [
    "### Data\n",
    "\n",
    "Dimensions of the ```data``` array: \n",
    "\n",
    "* Number of records : the radar records a scan every 5 min\n",
    "\n",
    "* Number of points on the y axis : latitude\n",
    "\n",
    "* Number of points on the x axis : longitude"
   ]
  },
  {
   "cell_type": "code",
   "execution_count": null,
   "metadata": {},
   "outputs": [],
   "source": [
    "data.shape"
   ]
  },
  {
   "cell_type": "markdown",
   "metadata": {},
   "source": [
    "### Dates\n",
    "\n",
    "Dimension of the ```dates``` array: \n",
    "\n",
    "* Number of records : the radar records a scan every 5 min"
   ]
  },
  {
   "cell_type": "code",
   "execution_count": null,
   "metadata": {},
   "outputs": [],
   "source": [
    "dates.shape"
   ]
  },
  {
   "cell_type": "code",
   "execution_count": null,
   "metadata": {},
   "outputs": [],
   "source": [
    "dates[:5]"
   ]
  },
  {
   "cell_type": "markdown",
   "metadata": {},
   "source": [
    "### Missing dates\n",
    "\n",
    "Dimension of the ```miss_dates``` array: \n",
    "\n",
    "* Number of missing records"
   ]
  },
  {
   "cell_type": "code",
   "execution_count": null,
   "metadata": {
    "scrolled": true
   },
   "outputs": [],
   "source": [
    "miss_dates.shape"
   ]
  },
  {
   "cell_type": "markdown",
   "metadata": {},
   "source": [
    "### Latitude"
   ]
  },
  {
   "cell_type": "code",
   "execution_count": null,
   "metadata": {},
   "outputs": [],
   "source": [
    "lat.shape"
   ]
  },
  {
   "cell_type": "code",
   "execution_count": null,
   "metadata": {},
   "outputs": [],
   "source": [
    "lat"
   ]
  },
  {
   "cell_type": "markdown",
   "metadata": {},
   "source": [
    "# Plot with Cartopy"
   ]
  },
  {
   "cell_type": "code",
   "execution_count": null,
   "metadata": {},
   "outputs": [],
   "source": [
    "from meteonet_toolbox.constant import DOMAINS\n",
    "import cartopy.crs as ccrs\n",
    "import cartopy.feature as cfeature"
   ]
  },
  {
   "cell_type": "code",
   "execution_count": null,
   "metadata": {},
   "outputs": [],
   "source": [
    "#coordinates of study zone boundaries\n",
    "lllat=DOMAINS[zone]['lry']    #lower left latitude\n",
    "urlat=DOMAINS[zone]['uly']    #upper right latitude\n",
    "lllon=DOMAINS[zone]['ulx']    #lower left longitude\n",
    "urlon=DOMAINS[zone]['lrx']    #upper right longitude\n",
    "extent = [lllon, urlon, lllat, urlat]"
   ]
  },
  {
   "cell_type": "markdown",
   "metadata": {},
   "source": [
    "Define the boundaries of the area we want to plot :"
   ]
  },
  {
   "cell_type": "code",
   "execution_count": null,
   "metadata": {},
   "outputs": [],
   "source": [
    "fig = plt.figure(figsize=(9,10))\n",
    "\n",
    "# Select projection\n",
    "ax = plt.axes(projection=ccrs.PlateCarree())\n",
    "\n",
    "# Plot the data\n",
    "plt.imshow(data[0], interpolation='none', origin='upper',cmap=cmap, norm=norm, extent=extent)\n",
    "\n",
    "# Add coastlines and borders\n",
    "ax.coastlines(resolution='50m', linewidth=1)\n",
    "ax.add_feature(cfeature.BORDERS.with_scale('50m'))\n",
    "\n",
    "# Show only the area we defined\n",
    "ax.set_extent(extent)\n",
    "\n",
    "# Add the colorbar\n",
    "plt.colorbar(cmap=cmap, norm=norm, boundaries=bounds, ticks=bounds, \n",
    "             orientation= 'horizontal').set_label('Rainfall (in 1/100 mm) / -1 : missing values')\n",
    "plt.title(\"Rainfalls - \"+ str(dates[0]) + \" - \"+  zone + \" zone\")\n",
    "plt.show()"
   ]
  },
  {
   "cell_type": "code",
   "execution_count": null,
   "metadata": {},
   "outputs": [],
   "source": []
  }
 ],
 "metadata": {
  "kernelspec": {
   "display_name": "Python 3",
   "language": "python",
   "name": "python3"
  },
  "language_info": {
   "codemirror_mode": {
    "name": "ipython",
    "version": 3
   },
   "file_extension": ".py",
   "mimetype": "text/x-python",
   "name": "python",
   "nbconvert_exporter": "python",
   "pygments_lexer": "ipython3",
   "version": "3.7.8"
  }
 },
 "nbformat": 4,
 "nbformat_minor": 2
}
