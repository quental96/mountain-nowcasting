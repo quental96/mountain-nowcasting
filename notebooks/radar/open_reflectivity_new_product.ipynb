{
 "cells": [
  {
   "cell_type": "markdown",
   "metadata": {},
   "source": [
    "# Radar observation : reflectivity composite of the new product\n",
    "\n",
    "The aim of this notebook is to help you read the reflectivity data of the new product. These data range from 01/02/2018 to 31/12/18 included. The radar emits a signal which is reflected by the precipitation. \"Reflectivity\" is the amount of transmitted power returned to the radar receiver after hitting precipitation, compared to a reference power density at a distance of 1 meter from the radar antenna.\n",
    "\n",
    "The new reflectivity product introduced the following changes :\n",
    "\n",
    "* a new data processing algorithm \n",
    "  \n",
    "* the reflectivity minimum detection threshold reduced from 8 to -9 dBZ\n",
    "\n",
    "* the reflectivity values with a step of 0.5 dBZ\n",
    "\n",
    "* 2 additionnal products : rain probability and selected measure height\n",
    "\n",
    "For the radar new product, you will find one archive per year and per zone, each one sliced in periods of 10 or 11 days (each month is separated in 3 files). \n",
    "\n",
    "Each `.npz` file contains 5 arrays :\n",
    "\n",
    "* `data` : an array containing reflectivity values (in 1/10 dBZ)\n",
    "\n",
    "* `prob` : an array containing rain probability (in %)\n",
    "  \n",
    "* `height` : an array containing the selected measure height (in m)\n",
    "\n",
    "* `dates` : an array containing a datetime object and indicating the date of each `data` map.\n",
    "\n",
    "* `miss_dates` : an array containing a datetime object for each missing radar map over the period.\n",
    "\n",
    "The '*non detection data*' value is -100 and the '*missing data*' value is -200.\n",
    "\n",
    "In this notebook, a formula is provided to convert the dBz into mm.h<sup>-1</sup>.\n",
    "\n",
    "For more information, cf [documentation](https://meteofrance.github.io/meteonet/english/data/rain-radar/)."
   ]
  },
  {
   "cell_type": "markdown",
   "metadata": {},
   "source": [
    "# Quickstart"
   ]
  },
  {
   "cell_type": "code",
   "execution_count": null,
   "metadata": {},
   "outputs": [],
   "source": [
    "import numpy as np\n",
    "%matplotlib notebook\n",
    "import matplotlib.pyplot as plt\n",
    "import matplotlib.pylab as pl\n",
    "import matplotlib.gridspec as gridspec\n",
    "from matplotlib import colors"
   ]
  },
  {
   "cell_type": "markdown",
   "metadata": {},
   "source": [
    "First, let's select the zone and date we want to study : "
   ]
  },
  {
   "cell_type": "code",
   "execution_count": null,
   "metadata": {},
   "outputs": [],
   "source": [
    "zone = \"SE\"    # NW or SE\n",
    "year = 2018    # 2016, 2017 or 2018\n",
    "month = 12\n",
    "part_month = 2 # Choice between 1,2,3, as we said earlier each month is divided in 3 parts"
   ]
  },
  {
   "cell_type": "markdown",
   "metadata": {},
   "source": [
    "Now, we load the data and the coordinates :"
   ]
  },
  {
   "cell_type": "code",
   "execution_count": null,
   "metadata": {},
   "outputs": [],
   "source": [
    "directory = \"../../data_samples/radar/\"\n",
    "fname = directory + f'reflectivity_new_{zone}_{str(year)}_{str(month).zfill(2)}.{str(part_month)}.npz'\n",
    "fname_coords = directory + f'radar_coords_{zone}.npz'\n",
    "\n",
    "d = np.load(fname, allow_pickle=True)\n",
    "data = d['data']\n",
    "data[((data!=-200) & (data!=-100))] = data[((data!=-200) & (data!=-100))]/10      \n",
    "prob = d['prob']\n",
    "height = d['height']\n",
    "dates = d['dates']\n",
    "miss_dates = d['miss_dates']\n",
    "\n",
    "coords = np.load(fname_coords, allow_pickle=True)\n",
    "#it is about coordinates of the center of pixels \n",
    "lat = coords['lats']\n",
    "lon = coords['lons']"
   ]
  },
  {
   "cell_type": "markdown",
   "metadata": {},
   "source": [
    "Let's plot quickly the data :"
   ]
  },
  {
   "cell_type": "code",
   "execution_count": null,
   "metadata": {},
   "outputs": [],
   "source": [
    "index = 20\n",
    "title = str(dates[index]) + \" - \"+  zone + \" zone / -200 : 'missing data' value, -100 : 'non-detection data' value\"\n",
    "\n",
    "fig = plt.figure(figsize=(9,9))\n",
    "gs = gridspec.GridSpec(2, 2, figure = fig)\n",
    "fig.suptitle(title, fontsize=12)\n",
    "\n",
    "# Reflectivity : colorbar definition\n",
    "cmap = colors.ListedColormap(['gray','silver','black','indigo','mediumblue','dodgerblue', 'skyblue','cyan',\n",
    "                              'olivedrab','lime','greenyellow','orange','red','magenta','pink'])\n",
    "bounds = [-200,-100,-9,-4,0,4,8,12,16,20,24,32,40,48,56,66]\n",
    "norm = colors.BoundaryNorm(bounds, cmap.N)\n",
    "ax =  pl.subplot(gs[0, 0])    \n",
    "p1=ax.pcolormesh(lon, lat, data[index],cmap=cmap, norm=norm)\n",
    "ax.set_ylabel('latitude (degrees_north)')\n",
    "ax.set_title(\"Reflectivity\")\n",
    "pl.colorbar(p1,ax=ax, cmap=cmap, norm=norm, boundaries=bounds, ticks=bounds, \n",
    "            orientation= 'vertical').set_label('Reflectivity (in dBZ)')\n",
    "\n",
    "# Height \n",
    "height = d['height']\n",
    "height_plot = height\n",
    "height_plot[((height!=-200) & (height!=-100))] = height[((height!=-200) & (height!=-100))]/1000      \n",
    "cmap = colors.ListedColormap(['gray','silver','saddlebrown','firebrick','darkorange','bisque','yellow','greenyellow',\n",
    "                             'springgreen','cyan','skyblue','dodgerblue','mediumblue','darkblue','darkslateblue'])\n",
    "bounds = [-200,-100,0,1,2,3,4,5,6,7,8,9,10,11,12,22]\n",
    "norm = colors.BoundaryNorm(bounds, cmap.N)\n",
    "ax =  pl.subplot(gs[0, 1])\n",
    "p2=ax.pcolormesh(lon, lat, height_plot[index],cmap=cmap, norm=norm)\n",
    "ax.set_xlabel('longitude (degrees_east)')\n",
    "ax.set_title(\"Measure height\")\n",
    "pl.colorbar(p2,ax=ax, cmap=cmap, norm=norm, boundaries=bounds, ticks=bounds, orientation= 'vertical').set_label('Measure height (in km)')\n",
    "\n",
    "\n",
    "# Rain Probability\n",
    "cmap = colors.ListedColormap(['gray','silver','purple', 'deeppink','darkturquoise', 'dodgerblue','mediumblue','darkviolet','olivedrab'\n",
    "                                  ,'lime','orange','red'])\n",
    "bounds = [-200,-100,0,10,20,30,40,50,60,70,80,90,100]\n",
    "norm = colors.BoundaryNorm(bounds, cmap.N)\n",
    "ax =  pl.subplot(gs[1, 0])\n",
    "p3=ax.pcolormesh(lon, lat, prob[index],cmap=cmap, norm=norm)\n",
    "ax.set_ylabel('latitude (degrees_north)')\n",
    "ax.set_xlabel('longitude (degrees_east)')\n",
    "ax.set_title(\"Rain probability\")\n",
    "pl.colorbar(p3,ax=ax, cmap=cmap, norm=norm, boundaries=bounds, ticks=bounds, orientation= 'vertical').set_label('Rain probability (in %)')    "
   ]
  },
  {
   "cell_type": "markdown",
   "metadata": {},
   "source": [
    "## Exploring the data\n",
    "\n",
    "### Data"
   ]
  },
  {
   "cell_type": "markdown",
   "metadata": {},
   "source": [
    "Dimensions of the ```data``` array: \n",
    "\n",
    "* Number of records : the radar records a scan every 5 min\n",
    "\n",
    "* Number of points on the y axis : latitude\n",
    "\n",
    "* Number of points on the x axis : longitude"
   ]
  },
  {
   "cell_type": "code",
   "execution_count": null,
   "metadata": {},
   "outputs": [],
   "source": [
    "data.shape"
   ]
  },
  {
   "cell_type": "markdown",
   "metadata": {},
   "source": [
    "### Dates\n",
    "\n",
    "Dimension of the ```dates``` array: \n",
    "\n",
    "* Number of records : the radar records a scan every 5 min"
   ]
  },
  {
   "cell_type": "code",
   "execution_count": null,
   "metadata": {},
   "outputs": [],
   "source": [
    "dates.shape"
   ]
  },
  {
   "cell_type": "code",
   "execution_count": null,
   "metadata": {},
   "outputs": [],
   "source": [
    "dates"
   ]
  },
  {
   "cell_type": "markdown",
   "metadata": {},
   "source": [
    "### Missing dates\n",
    "\n",
    "Dimension of the ```miss_dates``` array: \n",
    "\n",
    "* Number of missing records"
   ]
  },
  {
   "cell_type": "code",
   "execution_count": null,
   "metadata": {},
   "outputs": [],
   "source": [
    "miss_dates.shape"
   ]
  },
  {
   "cell_type": "markdown",
   "metadata": {},
   "source": [
    "### Longitude"
   ]
  },
  {
   "cell_type": "code",
   "execution_count": null,
   "metadata": {},
   "outputs": [],
   "source": [
    "lon.shape"
   ]
  },
  {
   "cell_type": "code",
   "execution_count": null,
   "metadata": {},
   "outputs": [],
   "source": [
    "lon"
   ]
  },
  {
   "cell_type": "markdown",
   "metadata": {},
   "source": [
    "# Plot with Cartopy"
   ]
  },
  {
   "cell_type": "code",
   "execution_count": null,
   "metadata": {},
   "outputs": [],
   "source": [
    "from meteonet_toolbox.constant import DOMAINS\n",
    "import cartopy.crs as ccrs\n",
    "import cartopy.feature as cfeature"
   ]
  },
  {
   "cell_type": "code",
   "execution_count": null,
   "metadata": {},
   "outputs": [],
   "source": [
    "# Coordinates of study zone boundaries\n",
    "lllat=DOMAINS[zone]['lry']    #lower left latitude\n",
    "urlat=DOMAINS[zone]['uly']    #upper right latitude\n",
    "lllon=DOMAINS[zone]['ulx']    #lower left longitude\n",
    "urlon=DOMAINS[zone]['lrx']    #upper right longitude\n",
    "extent = [lllon, urlon, lllat, urlat]"
   ]
  },
  {
   "cell_type": "markdown",
   "metadata": {},
   "source": [
    "Plot the different data for 1 given time step with a basemap"
   ]
  },
  {
   "cell_type": "code",
   "execution_count": null,
   "metadata": {
    "scrolled": false
   },
   "outputs": [],
   "source": [
    "index = 20\n",
    "title = str(dates[index]) + \" - \"+  zone + \" zone / -200 : 'missing data' value, -100 : 'non-detection data' value\"\n",
    "\n",
    "fig, axs = plt.subplots(3, figsize=(9,10), subplot_kw={'projection': ccrs.PlateCarree()})\n",
    "fig.suptitle(title, fontsize=12)\n",
    "\n",
    "# Reflectivity : colorbar definition\n",
    "cmap = colors.ListedColormap(['gray','silver','black','indigo','mediumblue','dodgerblue', 'skyblue','cyan',\n",
    "                              'olivedrab','lime','greenyellow','orange','red','magenta','pink'])\n",
    "bounds = [-200,-100,-9,-4,0,4,8,12,16,20,24,32,40,48,56,66]\n",
    "norm = colors.BoundaryNorm(bounds, cmap.N)\n",
    "img = axs[0].imshow(data[index], cmap=cmap, norm=norm, extent=extent, origin = 'upper')\n",
    "axs[0].coastlines(resolution='50m', linewidth=1)\n",
    "axs[0].add_feature(cfeature.BORDERS.with_scale('50m'))\n",
    "axs[0].set_ylabel('latitude (degrees_north)')\n",
    "axs[0].set_title(\"Reflectivity\")\n",
    "plt.colorbar(img, ax=axs[0], cmap=cmap, norm=norm, boundaries=bounds, ticks=bounds, \n",
    "             orientation= 'vertical').set_label('Reflectivity (in dBZ)')\n",
    "\n",
    "# Height \n",
    "height = d['height']\n",
    "height_plot = height\n",
    "height_plot[((height!=-200) & (height!=-100))] = height[((height!=-200) & (height!=-100))]/1000      \n",
    "cmap = colors.ListedColormap(['gray','silver','saddlebrown','firebrick','darkorange','bisque','yellow','greenyellow',\n",
    "                             'springgreen','cyan','skyblue','dodgerblue','mediumblue','darkblue','darkslateblue'])\n",
    "bounds = [-200,-100,0,1,2,3,4,5,6,7,8,9,10,11,12,22]\n",
    "norm = colors.BoundaryNorm(bounds, cmap.N)\n",
    "img = axs[1].imshow(height_plot[index],cmap=cmap, norm=norm, extent=extent, origin = 'upper')\n",
    "axs[1].set_xlabel('longitude (degrees_east)')\n",
    "axs[1].set_title(\"Measure height\")\n",
    "axs[1].coastlines(resolution='50m', linewidth=1)\n",
    "axs[1].add_feature(cfeature.BORDERS.with_scale('50m'))\n",
    "plt.colorbar(img, ax=axs[1], cmap=cmap, norm=norm, boundaries=bounds, ticks=bounds, orientation= 'vertical').set_label('Measure height (in km)')\n",
    "\n",
    "\n",
    "# # Rain Probability\n",
    "cmap = colors.ListedColormap(['gray','silver','purple', 'deeppink','darkturquoise', 'dodgerblue','mediumblue','darkviolet','olivedrab'\n",
    "                                  ,'lime','orange','red'])\n",
    "bounds = [-200,-100,0,10,20,30,40,50,60,70,80,90,100]\n",
    "norm = colors.BoundaryNorm(bounds, cmap.N)\n",
    "img = axs[2].imshow(prob[index], cmap=cmap, norm=norm, extent=extent, origin = 'upper')\n",
    "axs[2].set_ylabel('latitude (degrees_north)')\n",
    "axs[2].set_xlabel('longitude (degrees_east)')\n",
    "axs[2].set_title(\"Rain probability\")\n",
    "axs[2].coastlines(resolution='50m', linewidth=1)\n",
    "axs[2].add_feature(cfeature.BORDERS.with_scale('50m'))\n",
    "plt.colorbar(p3,ax=axs[2], cmap=cmap, norm=norm, boundaries=bounds, ticks=bounds, orientation= 'vertical').set_label('Rain probability (in %)')  "
   ]
  },
  {
   "cell_type": "markdown",
   "metadata": {},
   "source": [
    "# Convert dBZ into mm/h"
   ]
  },
  {
   "cell_type": "code",
   "execution_count": null,
   "metadata": {},
   "outputs": [],
   "source": [
    "#multiplication coefficient for the graphic representation of rainfall rate (in 1/coeff mm/h)\n",
    "#/!\\### the colorbar is adapted to the coefficient 10 (cf plot at the end)\n",
    "coeff = 10   \n",
    "ind = 20"
   ]
  },
  {
   "cell_type": "code",
   "execution_count": null,
   "metadata": {},
   "outputs": [],
   "source": [
    "##from dBZ to mm/h : Marshall-Palmer formula\n",
    "a = 200\n",
    "b = 1.6\n",
    "\n",
    "rr = np.zeros((data.shape[0],data.shape[1],data.shape[2]))\n",
    "rr[((data==-200) | (data==-100))]=np.nan\n",
    "rr[((data!=-200) & (data!=-100))] = (10**(data[((data!=-200) & (data!=-100))]/10)/a)**(1/b)\n",
    "\n",
    "rr_plot = coeff*rr"
   ]
  },
  {
   "cell_type": "code",
   "execution_count": null,
   "metadata": {},
   "outputs": [],
   "source": [
    "def plot_mmh(rr_plot,coeff,ind, lat,lon, title = \"4 examples of rainfall rate plots\"):\n",
    "    fig, ax = plt.subplots(2, 2,figsize=(9,9))\n",
    "    fig.suptitle(title, fontsize=16)\n",
    "    \n",
    "    #colorbar definition\n",
    "    #/!\\### the scale is adapted to the coefficient 10\n",
    "    if (np.nanmax(rr_plot) > 3646):\n",
    "        borne_max = np.nanmax(rr_plot)\n",
    "    else:\n",
    "        borne_max = 3646 + 10\n",
    "    cmap = colors.ListedColormap(['white', 'darkslateblue', 'mediumblue','dodgerblue', 'skyblue','olive','mediumseagreen'\n",
    "                                      ,'cyan','lime','yellow','khaki','burlywood','orange','brown','red'])\n",
    "    bounds = [0,2,4,6,12,21,36,65,115,205,365,648,1153,2050,3646,borne_max]\n",
    "    norm = colors.BoundaryNorm(bounds, cmap.N)\n",
    "    \n",
    "    pl=ax[0,0].pcolormesh(lon, lat, rr_plot[ind,:,:],cmap=cmap, norm=norm)\n",
    "    ax[0,0].set_ylabel('latitude (degrees_north)')\n",
    "    ax[0,0].set_title(str(dates[ind]) + \" - \"+  zone + \" zone\")\n",
    "\n",
    "    pl=ax[0,1].pcolormesh(lon, lat, rr_plot[ind+1,:,:],cmap=cmap, norm=norm)\n",
    "    ax[0,1].set_title(str(dates[ind+1]) + \" - \"+  zone + \" zone\")\n",
    "\n",
    "    pl=ax[1,0].pcolormesh(lon, lat, rr_plot[ind+2,:,:],cmap=cmap, norm=norm)\n",
    "    ax[1,0].set_xlabel('longitude (degrees_east)')\n",
    "    ax[1,0].set_ylabel('latitude (degrees_north)')\n",
    "    ax[1,0].set_title(str(dates[ind+2]) + \" - \"+  zone + \" zone\")\n",
    "\n",
    "    pl=ax[1,1].pcolormesh(lon, lat, rr_plot[ind+3,:,:],cmap=cmap, norm=norm)\n",
    "    ax[1,1].set_xlabel('longitude (degrees_east)')\n",
    "    ax[1,1].set_title(str(dates[ind+3]) + \" - \"+  zone + \" zone\")\n",
    "\n",
    "    cbar = fig.colorbar(pl,ax=ax.ravel().tolist(),cmap=cmap, norm=norm, boundaries=bounds, ticks=bounds, orientation= 'vertical').set_label('Rainfall rate (in 1/10 mm/h) / nan : missing values')\n",
    "    plt.show()"
   ]
  },
  {
   "cell_type": "code",
   "execution_count": null,
   "metadata": {},
   "outputs": [],
   "source": [
    "#/!\\ these function works only if there are at least 3 dates later than this chosen for the plot with Cartopy (ind variable, cf second cell)\n",
    "plot_mmh(rr_plot,coeff,ind,lat,lon)"
   ]
  },
  {
   "cell_type": "code",
   "execution_count": null,
   "metadata": {},
   "outputs": [],
   "source": [
    "data_plot = coeff*rr\n",
    "\n",
    "fig = plt.figure(figsize=(9,5))\n",
    "\n",
    "# Select projection\n",
    "ax = plt.axes(projection=ccrs.PlateCarree())\n",
    "\n",
    "#colorbar definition\n",
    "#/!\\### the scale is adapted to the coefficient 10\n",
    "if (np.nanmax(data_plot) > 3646):\n",
    "    borne_max = np.nanmax(data_plot)\n",
    "else:\n",
    "    borne_max = 3646 + 10\n",
    "cmap = colors.ListedColormap(['white', 'darkslateblue', 'mediumblue','dodgerblue', 'skyblue','olive','mediumseagreen'\n",
    "                                  ,'cyan','lime','yellow','khaki','burlywood','orange','brown','red'])\n",
    "bounds = [0,2,4,6,12,21,36,65,115,205,365,648,1153,2050,3646,borne_max]\n",
    "norm = colors.BoundaryNorm(bounds, cmap.N)\n",
    "\n",
    "#plot the data and the background map (coastlines and borders)\n",
    "img = ax.imshow(data_plot[ind,:,:], interpolation='none', origin='upper',cmap=cmap, norm=norm, extent=extent)\n",
    "ax.coastlines(resolution='50m', linewidth=1)\n",
    "ax.add_feature(cfeature.BORDERS.with_scale('50m'))\n",
    "\n",
    "plt.colorbar(img, cmap=cmap, norm=norm, boundaries=bounds, ticks=bounds, orientation= 'horizontal').set_label('Rainfall rate (in 1/10 mm/h) / nan : missing values')\n",
    "plt.title(\"Rainfall rate - \"+ str(dates[ind]) + \" - \"+  zone + \" zone\")\n",
    "plt.show()"
   ]
  },
  {
   "cell_type": "code",
   "execution_count": null,
   "metadata": {},
   "outputs": [],
   "source": []
  }
 ],
 "metadata": {
  "kernelspec": {
   "display_name": "Python 3",
   "language": "python",
   "name": "python3"
  },
  "language_info": {
   "codemirror_mode": {
    "name": "ipython",
    "version": 3
   },
   "file_extension": ".py",
   "mimetype": "text/x-python",
   "name": "python",
   "nbconvert_exporter": "python",
   "pygments_lexer": "ipython3",
   "version": "3.7.8"
  }
 },
 "nbformat": 4,
 "nbformat_minor": 2
}
