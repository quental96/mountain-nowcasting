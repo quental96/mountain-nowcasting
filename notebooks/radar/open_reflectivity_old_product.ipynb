{
 "cells": [
  {
   "cell_type": "markdown",
   "metadata": {},
   "source": [
    "# Radar observation : reflectivity composite of the old product\n",
    "\n",
    "The aim of this notebook is to indicate how to read the reflectivity data of the old product. These data range from 01/01/2016 to 30/10/18 included. The radar emits a signal which is reflected by the precipitation. \"Reflectivity\" is the amount of transmitted power returned to the radar receiver after hitting precipitation, compared to a reference power density at a distance of 1 meter from the radar antenna.\n",
    "\n",
    "For each pixel is indicated a reflectivity value expressed in dBZ. If the value is missing, the value is 255.\n",
    "\n",
    "In this notebook, a formula is provided to convert the dBZ into mm.h<sup>-1</sup>.\n",
    "\n",
    "For more information, cf [documentation](https://meteofrance.github.io/meteonet/english/data/rain-radar/)."
   ]
  },
  {
   "cell_type": "markdown",
   "metadata": {},
   "source": [
    "# Quickstart"
   ]
  },
  {
   "cell_type": "code",
   "execution_count": null,
   "metadata": {},
   "outputs": [],
   "source": [
    "import numpy as np\n",
    "%matplotlib notebook\n",
    "import matplotlib.pyplot as plt\n",
    "import matplotlib.pylab as pl\n",
    "import matplotlib.gridspec as gridspec\n",
    "from matplotlib import colors"
   ]
  },
  {
   "cell_type": "markdown",
   "metadata": {},
   "source": [
    "First, let's select the zone and date we want to study :\n",
    "\n",
    "**Note** : if you have a small RAM on your PC, it is possible to load only a part of data (values between min and max indexes).  The maximum possible value about index is 3168 (1 data per 5 min at maximum for a 11 days maximal period -> 12x24x11 = 3168, with : 12 data per hour (frequency = 5 min), 24 hours per day and 11 days"
   ]
  },
  {
   "cell_type": "code",
   "execution_count": null,
   "metadata": {},
   "outputs": [],
   "source": [
    "zone = \"NW\"    # NW or SE\n",
    "year = 2016    # 2016, 2017 or 2018\n",
    "month = 8\n",
    "part_month = 3 # Choice between 1,2,3, as we said earlier each month is divided in 3 parts\n",
    "#min and max indexes when the dataset is loaded in memory\n",
    "ind_min = 0\n",
    "ind_max = 15"
   ]
  },
  {
   "cell_type": "markdown",
   "metadata": {},
   "source": [
    "Now, we load the data and the coordinates :"
   ]
  },
  {
   "cell_type": "code",
   "execution_count": null,
   "metadata": {},
   "outputs": [],
   "source": [
    "fname = \"../../data_samples/radar/reflectivity_old_%s_%s_%s.%s.npz\" % (zone, str(year),\"{:02d}\".format(month),str(part_month))\n",
    "fname_coords = \"../../data_samples/radar/radar_coords_%s.npz\" % (zone)\n",
    "\n",
    "d = np.load(fname, allow_pickle=True)\n",
    "data = d['data'][ind_min:ind_max,:,:]     #reflectivity values\n",
    "dates = d['dates'][ind_min:ind_max]        #associated dates values\n",
    "miss_dates = d['miss_dates'][ind_min:ind_max]        #missing dates values\n",
    "\n",
    "#get the coordinates of the points\n",
    "coords = np.load(fname_coords, allow_pickle=True)\n",
    "#it is about coordinates of the center of pixels \n",
    "lat = coords['lats']\n",
    "lon = coords['lons']"
   ]
  },
  {
   "cell_type": "markdown",
   "metadata": {},
   "source": [
    "Let's plot quickly the data :"
   ]
  },
  {
   "cell_type": "code",
   "execution_count": null,
   "metadata": {},
   "outputs": [],
   "source": [
    "fig = plt.figure(figsize=(9,9))\n",
    "gs = gridspec.GridSpec(2, 2, figure = fig)\n",
    "fig.suptitle(\"4 examples of reflectivity plots\" + ' / ' + str(255) +' : missing values', fontsize=12)\n",
    "\n",
    "# Reflectivity : colorbar definition\n",
    "if (np.max(data) > 56):\n",
    "    borne_max = np.max(data)\n",
    "else:\n",
    "    borne_max = 56 + 10\n",
    "cmap = colors.ListedColormap(['lavender','indigo','mediumblue','dodgerblue', 'skyblue','cyan',\n",
    "                          'olivedrab','lime','greenyellow','orange','red','magenta','pink','silver'])\n",
    "bounds = [0,4,8,12,16,20,24,32,40,48,56,borne_max,255]\n",
    "norm = colors.BoundaryNorm(bounds, cmap.N)\n",
    "\n",
    "# 4 plot examples\n",
    "ax =  pl.subplot(gs[0, 0])  \n",
    "p1=ax.pcolormesh(lon, lat, data[0,:,:],cmap=cmap, norm=norm)\n",
    "ax.set_ylabel('latitude (degrees_north)')\n",
    "ax.set_title(str(dates[0]) + \" - \"+  zone + \" zone\")\n",
    "pl.colorbar(p1,ax=ax, cmap=cmap, norm=norm, boundaries=bounds, ticks=bounds, \n",
    "            orientation= 'vertical').set_label('Reflectivity (in dBZ)')\n",
    "\n",
    "ax =  pl.subplot(gs[0, 1])  \n",
    "p2=ax.pcolormesh(lon, lat, data[1,:,:],cmap=cmap, norm=norm)\n",
    "ax.set_title(str(dates[1]) + \" - \"+  zone + \" zone\")\n",
    "pl.colorbar(p2,ax=ax, cmap=cmap, norm=norm, boundaries=bounds, ticks=bounds, \n",
    "            orientation= 'vertical').set_label('Reflectivity (in dBZ)')\n",
    "\n",
    "ax =  pl.subplot(gs[1, 0])  \n",
    "p3=ax.pcolormesh(lon, lat, data[2,:,:],cmap=cmap, norm=norm)\n",
    "ax.set_xlabel('longitude (degrees_east)')\n",
    "ax.set_ylabel('latitude (degrees_north)')\n",
    "ax.set_title(str(dates[2]) + \" - \"+  zone + \" zone\")\n",
    "pl.colorbar(p3,ax=ax, cmap=cmap, norm=norm, boundaries=bounds, ticks=bounds, \n",
    "            orientation= 'vertical').set_label('Reflectivity (in dBZ)')\n",
    "\n",
    "ax =  pl.subplot(gs[1, 1])  \n",
    "p4=ax.pcolormesh(lon, lat, data[3,:,:],cmap=cmap, norm=norm)\n",
    "ax.set_xlabel('longitude (degrees_east)')\n",
    "ax.set_title(str(dates[3]) + \" - \"+  zone + \" zone\")\n",
    "pl.colorbar(p4,ax=ax, cmap=cmap, norm=norm, boundaries=bounds, ticks=bounds, \n",
    "            orientation= 'vertical').set_label('Reflectivity (in dBZ)')\n",
    "\n",
    "plt.show()"
   ]
  },
  {
   "cell_type": "markdown",
   "metadata": {},
   "source": [
    "# More details\n",
    "\n",
    "The data are stored per period of 10 or 11 days per geographic zone (each month is separated in 3 files). The zones called 'NW' (for North-West of France) and 'SE' (for South-East of France).\n",
    "The time step is 5 min (per day, start hour :00h and end hour : 23h55), the spatial resolution, 0.01° (the projection system is EPSG:4326).\n",
    "\n",
    "Each file contains 3 data categories : \n",
    "\n",
    "* `data` : rainfall values\n",
    "* `dates` : the associated dates to the rainfall values\n",
    "* `miss_dates` : the dates for which the data are missing\n",
    "\n",
    "The min and max indexes defined in the second cell (allow to load just take a piece of data if you have a small RAM) apply to these datasets. \n",
    "\n",
    "The values are not continuous, there are defined in this way (each value is the inferior bound of each interval) :\n",
    "\n",
    "* 0 : Z < 8 dBZ \n",
    "* 8 : 8 < Z < 16 dBZ     \n",
    "* 16 : 16 < Z < 20 dBZ \n",
    "* ...\n",
    "* 70 : 70 dBZ < Z \n",
    "\n",
    "**To get the coordinates (lat,lon) of the points :**\n",
    "One `.npz` file contains 2 arrays : one for the latitudes and one for the longitudes of the center of each pixel."
   ]
  },
  {
   "cell_type": "markdown",
   "metadata": {},
   "source": [
    "## Data\n",
    "\n",
    "Dimensions of the `data` array: \n",
    "* time dimension (number of 5 min records) -> can be reduced and determined by min and max indexes when the dataset is loaded in memory (cf second cell)\n",
    "* Number of points on the y axis : latitude\n",
    "* Number of points on the x axis : longitude"
   ]
  },
  {
   "cell_type": "code",
   "execution_count": null,
   "metadata": {},
   "outputs": [],
   "source": [
    "data.shape"
   ]
  },
  {
   "cell_type": "markdown",
   "metadata": {},
   "source": [
    "## Dates\n",
    "\n",
    "Dimensions of the `dates` array:\n",
    "* time dimension (number of 5 min records for which there are data)  -> can be reduced and determined by min and max indexes when the dataset is loaded in memory (cf second cell)"
   ]
  },
  {
   "cell_type": "code",
   "execution_count": null,
   "metadata": {},
   "outputs": [],
   "source": [
    "dates.shape"
   ]
  },
  {
   "cell_type": "code",
   "execution_count": null,
   "metadata": {},
   "outputs": [],
   "source": [
    "dates"
   ]
  },
  {
   "cell_type": "markdown",
   "metadata": {},
   "source": [
    "## Missing dates\n",
    "\n",
    "Dimensions of the `miss_dates` array:\n",
    "* time dimension (dates for which there are no data) -> can be reduced and determined by min and max indexes when the dataset is loaded in memory (cf second cell)"
   ]
  },
  {
   "cell_type": "code",
   "execution_count": null,
   "metadata": {},
   "outputs": [],
   "source": [
    "miss_dates.shape"
   ]
  },
  {
   "cell_type": "code",
   "execution_count": null,
   "metadata": {},
   "outputs": [],
   "source": [
    "miss_dates"
   ]
  },
  {
   "cell_type": "markdown",
   "metadata": {},
   "source": [
    "## Latitude"
   ]
  },
  {
   "cell_type": "code",
   "execution_count": null,
   "metadata": {},
   "outputs": [],
   "source": [
    "lat.shape"
   ]
  },
  {
   "cell_type": "code",
   "execution_count": null,
   "metadata": {},
   "outputs": [],
   "source": [
    "lat"
   ]
  },
  {
   "cell_type": "markdown",
   "metadata": {},
   "source": [
    "# Plot with Cartopy"
   ]
  },
  {
   "cell_type": "code",
   "execution_count": null,
   "metadata": {},
   "outputs": [],
   "source": [
    "from meteonet_toolbox.constant import DOMAINS\n",
    "import cartopy.crs as ccrs\n",
    "import cartopy.feature as cfeature"
   ]
  },
  {
   "cell_type": "code",
   "execution_count": null,
   "metadata": {},
   "outputs": [],
   "source": [
    "#coordinates of study zone boundaries\n",
    "lllat=DOMAINS[zone]['lry']    #lower left latitude\n",
    "urlat=DOMAINS[zone]['uly']    #upper right latitude\n",
    "lllon=DOMAINS[zone]['ulx']    #lower left longitude\n",
    "urlon=DOMAINS[zone]['lrx']    #upper right longitude\n",
    "extent = [lllon, urlon, lllat, urlat]"
   ]
  },
  {
   "cell_type": "markdown",
   "metadata": {},
   "source": [
    "Index of the chosen 5 min of the decade for the plot with cartopy (cf last cell of the notebook) \n",
    "\n",
    "**/!\\ 0 <= ind < ind_max-ind_min** "
   ]
  },
  {
   "cell_type": "code",
   "execution_count": null,
   "metadata": {},
   "outputs": [],
   "source": [
    "#index of the chosen 5 min of the decade for the plot with cartopy (cf last cell of the notebook) \n",
    "ind = 1  "
   ]
  },
  {
   "cell_type": "markdown",
   "metadata": {},
   "source": [
    "Plot the reflectivity values for 1 given time step with a basemap"
   ]
  },
  {
   "cell_type": "code",
   "execution_count": null,
   "metadata": {},
   "outputs": [],
   "source": [
    "fig = plt.figure(figsize=(9,10))\n",
    "\n",
    "# Select projection\n",
    "ax = plt.axes(projection=ccrs.PlateCarree())\n",
    "\n",
    "#colorbar definition\n",
    "if (np.max(data) > 56):\n",
    "    borne_max = np.max(data)\n",
    "else:\n",
    "    borne_max = 56 + 10\n",
    "cmap = colors.ListedColormap(['lavender','indigo','mediumblue','dodgerblue', 'skyblue','cyan',\n",
    "                          'olivedrab','lime','greenyellow','orange','red','magenta','pink','silver'])\n",
    "bounds = [0,4,8,12,16,20,24,32,40,48,56,borne_max,255]\n",
    "norm = colors.BoundaryNorm(bounds, cmap.N)\n",
    "\n",
    "#plot the data and the background map (coastlines and borders)\n",
    "img = ax.imshow(data[ind,:,:], interpolation='none', origin='upper',cmap=cmap, norm=norm, extent=extent)\n",
    "ax.coastlines(resolution='50m', linewidth=1)\n",
    "ax.add_feature(cfeature.BORDERS.with_scale('50m'))\n",
    "\n",
    "plt.colorbar(img, cmap=cmap, norm=norm, boundaries=bounds, ticks=bounds, orientation= 'horizontal').set_label('Reflectivity (in dBZ) / '+ \n",
    "                                                                                                              str(255) +' : missing values')\n",
    "plt.title(\"Reflectivity - \"+ str(dates[ind]) + \" - \"+  zone + \" zone\")\n",
    "plt.show()"
   ]
  },
  {
   "cell_type": "markdown",
   "metadata": {},
   "source": [
    "# Convert dBZ into mm/h"
   ]
  },
  {
   "cell_type": "code",
   "execution_count": null,
   "metadata": {},
   "outputs": [],
   "source": [
    "#multiplication coefficient for the graphic representation of rainfall rate (in 1/coeff mm/h)\n",
    "#/!\\### the colorbar is adapted to the coefficient 10 (cf plot at the end)\n",
    "coeff = 10 "
   ]
  },
  {
   "cell_type": "code",
   "execution_count": null,
   "metadata": {},
   "outputs": [],
   "source": [
    "##from dBZ to mm/h : Marshall-Palmer formula\n",
    "a = 200\n",
    "b = 1.6\n",
    "\n",
    "rr = np.zeros((data.shape[0],data.shape[1],data.shape[2]))\n",
    "rr[data==255]=np.nan\n",
    "rr[data!=255] = (10**(data[data!=255]/10)/a)**(1/b)\n",
    "\n",
    "rr_plot = coeff*rr"
   ]
  },
  {
   "cell_type": "code",
   "execution_count": null,
   "metadata": {},
   "outputs": [],
   "source": [
    "def plot_mmh(data,coeff, lat,lon, title = \"4 examples of rainfall rate plots\"):\n",
    "           \n",
    "    #plots\n",
    "    fig, ax = plt.subplots(2, 2,figsize=(9,9))\n",
    "    fig.suptitle(title, fontsize=16)\n",
    "    \n",
    "    #colorbar definition\n",
    "    #/!\\### the scale is adapted to the coefficient 10\n",
    "    if (np.nanmax(rr_plot) > 3646):\n",
    "        borne_max = np.nanmax(rr_plot)\n",
    "    else:\n",
    "        borne_max = 3646 + 10\n",
    "    cmap = colors.ListedColormap(['white', 'darkslateblue', 'mediumblue','dodgerblue', 'skyblue','olive','mediumseagreen'\n",
    "                                      ,'cyan','lime','yellow','khaki','burlywood','orange','brown','red'])\n",
    "    bounds = [0,2,4,6,12,21,36,65,115,205,365,648,1153,2050,3646,borne_max]\n",
    "    norm = colors.BoundaryNorm(bounds, cmap.N)\n",
    "    \n",
    "    pl=ax[0,0].pcolormesh(lon, lat, rr_plot[0,:,:],cmap=cmap, norm=norm)\n",
    "    ax[0,0].set_ylabel('latitude (degrees_north)')\n",
    "    ax[0,0].set_title(str(dates[0]) + \" - \"+  zone + \" zone\")\n",
    "\n",
    "    pl=ax[0,1].pcolormesh(lon, lat, rr_plot[1,:,:],cmap=cmap, norm=norm)\n",
    "    ax[0,1].set_title(str(dates[1]) + \" - \"+  zone + \" zone\")\n",
    "\n",
    "    pl=ax[1,0].pcolormesh(lon, lat, rr_plot[2,:,:],cmap=cmap, norm=norm)\n",
    "    ax[1,0].set_xlabel('longitude (degrees_east)')\n",
    "    ax[1,0].set_ylabel('latitude (degrees_north)')\n",
    "    ax[1,0].set_title(str(dates[2]) + \" - \"+  zone + \" zone\")\n",
    "\n",
    "    pl=ax[1,1].pcolormesh(lon, lat, rr_plot[3,:,:],cmap=cmap, norm=norm)\n",
    "    ax[1,1].set_xlabel('longitude (degrees_east)')\n",
    "    ax[1,1].set_title(str(dates[3]) + \" - \"+  zone + \" zone\")\n",
    "\n",
    "    cbar = fig.colorbar(pl,ax=ax.ravel().tolist(),cmap=cmap, norm=norm, boundaries=bounds, ticks=bounds, orientation= 'vertical').set_label('Rainfall rate (in 1/10 mm/h) / nan : missing values')\n",
    "    plt.show()\n",
    "    return rr"
   ]
  },
  {
   "cell_type": "code",
   "execution_count": null,
   "metadata": {},
   "outputs": [],
   "source": [
    "#/!\\ these function works only if there are at least 3 dates later than this chosen for the plot with Cartopy (ind variable, cf second cell)\n",
    "rr = plot_mmh(data,coeff, lat,lon)"
   ]
  },
  {
   "cell_type": "markdown",
   "metadata": {},
   "source": [
    "Plot with Cartopy :"
   ]
  },
  {
   "cell_type": "code",
   "execution_count": null,
   "metadata": {},
   "outputs": [],
   "source": [
    "data_plot = coeff*rr\n",
    "\n",
    "fig = plt.figure(figsize=(9,10))\n",
    "\n",
    "# Select projection\n",
    "ax = plt.axes(projection=ccrs.PlateCarree())\n",
    "\n",
    "#colorbar definition\n",
    "#/!\\### the scale is adapted to the coefficient 10\n",
    "if (np.nanmax(data_plot) > 3646):\n",
    "    borne_max = np.nanmax(data_plot)\n",
    "else:\n",
    "    borne_max = 3646 + 10\n",
    "cmap = colors.ListedColormap(['white', 'darkslateblue', 'mediumblue','dodgerblue', 'skyblue','olive','mediumseagreen'\n",
    "                                  ,'cyan','lime','yellow','khaki','burlywood','orange','brown','red'])\n",
    "bounds = [0,2,4,6,12,21,36,65,115,205,365,648,1153,2050,3646,borne_max]\n",
    "norm = colors.BoundaryNorm(bounds, cmap.N)\n",
    "\n",
    "#plot the data and the background map (coastlines and borders)\n",
    "img = ax.imshow(data_plot[ind,:,:], interpolation='none', origin='upper',cmap=cmap, norm=norm, extent=extent)\n",
    "ax.coastlines(resolution='50m', linewidth=1)\n",
    "ax.add_feature(cfeature.BORDERS.with_scale('50m'))\n",
    "\n",
    "plt.colorbar(img, cmap=cmap, norm=norm, boundaries=bounds, ticks=bounds, orientation= 'horizontal').set_label('Rainfall rate (in 1/10 mm/h) / nan : missing values')\n",
    "plt.title(\"Rainfall rate - \"+ str(dates[ind]) + \" - \"+  zone + \" zone\")\n",
    "plt.show()"
   ]
  },
  {
   "cell_type": "code",
   "execution_count": null,
   "metadata": {},
   "outputs": [],
   "source": []
  }
 ],
 "metadata": {
  "kernelspec": {
   "display_name": "Python 3",
   "language": "python",
   "name": "python3"
  },
  "language_info": {
   "codemirror_mode": {
    "name": "ipython",
    "version": 3
   },
   "file_extension": ".py",
   "mimetype": "text/x-python",
   "name": "python",
   "nbconvert_exporter": "python",
   "pygments_lexer": "ipython3",
   "version": "3.7.8"
  }
 },
 "nbformat": 4,
 "nbformat_minor": 2
}
